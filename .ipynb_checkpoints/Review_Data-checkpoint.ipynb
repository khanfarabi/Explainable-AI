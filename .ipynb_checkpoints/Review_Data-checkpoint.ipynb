{
 "cells": [],
 "metadata": {
  "environment": {
   "name": "common-cpu.m73",
   "type": "gcloud",
   "uri": "gcr.io/deeplearning-platform-release/base-cpu:m73"
  }
 },
 "nbformat": 4,
 "nbformat_minor": 5
}
